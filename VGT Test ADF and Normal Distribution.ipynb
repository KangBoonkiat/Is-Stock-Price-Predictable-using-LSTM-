{
 "cells": [
  {
   "cell_type": "code",
   "execution_count": 63,
   "metadata": {
    "id": "xC8QuGrvUNHe"
   },
   "outputs": [],
   "source": [
    "# Import libraries\n",
    "\n",
    "import math\n",
    "\n",
    "import plotly.graph_objects as go\n",
    "from plotly.subplots import make_subplots\n",
    "import matplotlib.pyplot as plt\n",
    "import numpy as np\n",
    "import pandas as pd\n",
    "\n",
    "import yfinance as yf\n",
    "\n",
    "from matplotlib.pyplot import figure\n",
    "import scipy.stats as stats \n",
    "\n",
    "import chart_studio\n",
    "import chart_studio.plotly as py\n",
    "import chart_studio.tools as tls\n",
    "\n",
    "import pylab\n",
    "from statsmodels.tsa.stattools import adfuller\n",
    "import pylab\n"
   ]
  },
  {
   "cell_type": "code",
   "execution_count": 33,
   "metadata": {
    "id": "k33JOe2sUO7d"
   },
   "outputs": [],
   "source": [
    "# Can choose any stock\n",
    "\n",
    "VGT_df = yf.download('VGT', start = '2014-01-01', end = '2022-04-15', progress = False)"
   ]
  },
  {
   "cell_type": "code",
   "execution_count": 34,
   "metadata": {},
   "outputs": [
    {
     "data": {
      "text/html": [
       "<div>\n",
       "<style scoped>\n",
       "    .dataframe tbody tr th:only-of-type {\n",
       "        vertical-align: middle;\n",
       "    }\n",
       "\n",
       "    .dataframe tbody tr th {\n",
       "        vertical-align: top;\n",
       "    }\n",
       "\n",
       "    .dataframe thead th {\n",
       "        text-align: right;\n",
       "    }\n",
       "</style>\n",
       "<table border=\"1\" class=\"dataframe\">\n",
       "  <thead>\n",
       "    <tr style=\"text-align: right;\">\n",
       "      <th></th>\n",
       "      <th>Open</th>\n",
       "      <th>High</th>\n",
       "      <th>Low</th>\n",
       "      <th>Close</th>\n",
       "      <th>Adj Close</th>\n",
       "      <th>Volume</th>\n",
       "    </tr>\n",
       "    <tr>\n",
       "      <th>Date</th>\n",
       "      <th></th>\n",
       "      <th></th>\n",
       "      <th></th>\n",
       "      <th></th>\n",
       "      <th></th>\n",
       "      <th></th>\n",
       "    </tr>\n",
       "  </thead>\n",
       "  <tbody>\n",
       "    <tr>\n",
       "      <th>2013-12-31</th>\n",
       "      <td>89.099998</td>\n",
       "      <td>89.580002</td>\n",
       "      <td>89.080002</td>\n",
       "      <td>89.540001</td>\n",
       "      <td>82.474739</td>\n",
       "      <td>428500</td>\n",
       "    </tr>\n",
       "    <tr>\n",
       "      <th>2014-01-02</th>\n",
       "      <td>89.160004</td>\n",
       "      <td>89.160004</td>\n",
       "      <td>88.430000</td>\n",
       "      <td>88.620003</td>\n",
       "      <td>81.627312</td>\n",
       "      <td>358100</td>\n",
       "    </tr>\n",
       "    <tr>\n",
       "      <th>2014-01-03</th>\n",
       "      <td>88.760002</td>\n",
       "      <td>88.779999</td>\n",
       "      <td>88.199997</td>\n",
       "      <td>88.320000</td>\n",
       "      <td>81.350998</td>\n",
       "      <td>829500</td>\n",
       "    </tr>\n",
       "    <tr>\n",
       "      <th>2014-01-06</th>\n",
       "      <td>88.379997</td>\n",
       "      <td>88.430000</td>\n",
       "      <td>87.820000</td>\n",
       "      <td>88.070000</td>\n",
       "      <td>81.120712</td>\n",
       "      <td>386300</td>\n",
       "    </tr>\n",
       "    <tr>\n",
       "      <th>2014-01-07</th>\n",
       "      <td>88.500000</td>\n",
       "      <td>89.099998</td>\n",
       "      <td>88.300003</td>\n",
       "      <td>88.959999</td>\n",
       "      <td>81.940498</td>\n",
       "      <td>317000</td>\n",
       "    </tr>\n",
       "    <tr>\n",
       "      <th>...</th>\n",
       "      <td>...</td>\n",
       "      <td>...</td>\n",
       "      <td>...</td>\n",
       "      <td>...</td>\n",
       "      <td>...</td>\n",
       "      <td>...</td>\n",
       "    </tr>\n",
       "    <tr>\n",
       "      <th>2022-04-08</th>\n",
       "      <td>401.489990</td>\n",
       "      <td>402.250000</td>\n",
       "      <td>396.660004</td>\n",
       "      <td>397.649994</td>\n",
       "      <td>397.649994</td>\n",
       "      <td>444300</td>\n",
       "    </tr>\n",
       "    <tr>\n",
       "      <th>2022-04-11</th>\n",
       "      <td>392.540009</td>\n",
       "      <td>392.880005</td>\n",
       "      <td>387.890015</td>\n",
       "      <td>388.230011</td>\n",
       "      <td>388.230011</td>\n",
       "      <td>499800</td>\n",
       "    </tr>\n",
       "    <tr>\n",
       "      <th>2022-04-12</th>\n",
       "      <td>393.980011</td>\n",
       "      <td>396.850006</td>\n",
       "      <td>385.540009</td>\n",
       "      <td>387.170013</td>\n",
       "      <td>387.170013</td>\n",
       "      <td>2719400</td>\n",
       "    </tr>\n",
       "    <tr>\n",
       "      <th>2022-04-13</th>\n",
       "      <td>387.260010</td>\n",
       "      <td>395.260010</td>\n",
       "      <td>386.089996</td>\n",
       "      <td>393.920013</td>\n",
       "      <td>393.920013</td>\n",
       "      <td>592000</td>\n",
       "    </tr>\n",
       "    <tr>\n",
       "      <th>2022-04-14</th>\n",
       "      <td>394.269989</td>\n",
       "      <td>395.140015</td>\n",
       "      <td>384.000000</td>\n",
       "      <td>384.179993</td>\n",
       "      <td>384.179993</td>\n",
       "      <td>392700</td>\n",
       "    </tr>\n",
       "  </tbody>\n",
       "</table>\n",
       "<p>2088 rows × 6 columns</p>\n",
       "</div>"
      ],
      "text/plain": [
       "                  Open        High         Low       Close   Adj Close  \\\n",
       "Date                                                                     \n",
       "2013-12-31   89.099998   89.580002   89.080002   89.540001   82.474739   \n",
       "2014-01-02   89.160004   89.160004   88.430000   88.620003   81.627312   \n",
       "2014-01-03   88.760002   88.779999   88.199997   88.320000   81.350998   \n",
       "2014-01-06   88.379997   88.430000   87.820000   88.070000   81.120712   \n",
       "2014-01-07   88.500000   89.099998   88.300003   88.959999   81.940498   \n",
       "...                ...         ...         ...         ...         ...   \n",
       "2022-04-08  401.489990  402.250000  396.660004  397.649994  397.649994   \n",
       "2022-04-11  392.540009  392.880005  387.890015  388.230011  388.230011   \n",
       "2022-04-12  393.980011  396.850006  385.540009  387.170013  387.170013   \n",
       "2022-04-13  387.260010  395.260010  386.089996  393.920013  393.920013   \n",
       "2022-04-14  394.269989  395.140015  384.000000  384.179993  384.179993   \n",
       "\n",
       "             Volume  \n",
       "Date                 \n",
       "2013-12-31   428500  \n",
       "2014-01-02   358100  \n",
       "2014-01-03   829500  \n",
       "2014-01-06   386300  \n",
       "2014-01-07   317000  \n",
       "...             ...  \n",
       "2022-04-08   444300  \n",
       "2022-04-11   499800  \n",
       "2022-04-12  2719400  \n",
       "2022-04-13   592000  \n",
       "2022-04-14   392700  \n",
       "\n",
       "[2088 rows x 6 columns]"
      ]
     },
     "execution_count": 34,
     "metadata": {},
     "output_type": "execute_result"
    }
   ],
   "source": [
    "VGT_df"
   ]
  },
  {
   "cell_type": "code",
   "execution_count": 35,
   "metadata": {},
   "outputs": [],
   "source": [
    "# username = 'boonkiat1989'\n",
    "# api_key = 'SxfY5mKNxlBzqnQOjFzj'\n",
    "# tls.set_credentials_file(username =username, api_key = api_key)\n",
    "# py.plot(fig1, filename ='VGT-TS-plot', auto_open = False)"
   ]
  },
  {
   "cell_type": "code",
   "execution_count": 36,
   "metadata": {},
   "outputs": [
    {
     "data": {
      "text/plain": [
       "Date\n",
       "2014-01-02   -0.010275\n",
       "2014-01-03   -0.003385\n",
       "2014-01-06   -0.002831\n",
       "2014-01-07    0.010106\n",
       "2014-01-08    0.001237\n",
       "                ...   \n",
       "2022-04-08   -0.014669\n",
       "2022-04-11   -0.023689\n",
       "2022-04-12   -0.002730\n",
       "2022-04-13    0.017434\n",
       "2022-04-14   -0.024726\n",
       "Name: Close, Length: 2087, dtype: float64"
      ]
     },
     "execution_count": 36,
     "metadata": {},
     "output_type": "execute_result"
    }
   ],
   "source": [
    "simple_returns = VGT_df.Close.pct_change().dropna()\n",
    "simple_returns"
   ]
  },
  {
   "cell_type": "code",
   "execution_count": 37,
   "metadata": {},
   "outputs": [
    {
     "name": "stdout",
     "output_type": "stream",
     "text": [
      "Mean: 0.0007943870522762759\n",
      "Mode: 0    0.0\n",
      "Name: Close, dtype: float64\n",
      "Median: 0.0013314104634460922\n"
     ]
    }
   ],
   "source": [
    "m =simple_returns.mean()\n",
    "m1 = simple_returns.mode()\n",
    "m2 = simple_returns.median()\n",
    "\n",
    "print(f'Mean: {m}')\n",
    "print(f'Mode: {m1}')\n",
    "print(f'Median: {m2}')"
   ]
  },
  {
   "cell_type": "code",
   "execution_count": 38,
   "metadata": {},
   "outputs": [
    {
     "data": {
      "image/png": "[encoded data removed]",
      "text/plain": [
       "<Figure size 432x288 with 1 Axes>"
      ]
     },
     "metadata": {
      "needs_background": "light"
     },
     "output_type": "display_data"
    }
   ],
   "source": [
    "plt.plot(simple_returns)\n",
    "plt.show()"
   ]
  },
  {
   "cell_type": "code",
   "execution_count": 39,
   "metadata": {},
   "outputs": [
    {
     "data": {
      "text/plain": [
       "<AxesSubplot:ylabel='Frequency'>"
      ]
     },
     "execution_count": 39,
     "metadata": {},
     "output_type": "execute_result"
    },
    {
     "data": {
      "image/png": "[encoded data removed]",
      "text/plain": [
       "<Figure size 432x288 with 1 Axes>"
      ]
     },
     "metadata": {
      "needs_background": "light"
     },
     "output_type": "display_data"
    }
   ],
   "source": [
    "simple_returns.plot(kind='hist')"
   ]
  },
  {
   "cell_type": "code",
   "execution_count": 65,
   "metadata": {},
   "outputs": [
    {
     "name": "stdout",
     "output_type": "stream",
     "text": [
      "Q-Q Plot\n"
     ]
    },
    {
     "data": {
      "image/png": "[encoded data removed]",
      "text/plain": [
       "<Figure size 432x288 with 1 Axes>"
      ]
     },
     "metadata": {
      "needs_background": "light"
     },
     "output_type": "display_data"
    }
   ],
   "source": [
    "stats.probplot(simple_returns, dist='norm', plot=pylab)\n",
    "print('Q-Q Plot')"
   ]
  },
  {
   "cell_type": "code",
   "execution_count": 66,
   "metadata": {},
   "outputs": [
    {
     "data": {
      "text/plain": [
       "<AxesSubplot:>"
      ]
     },
     "execution_count": 66,
     "metadata": {},
     "output_type": "execute_result"
    },
    {
     "data": {
      "image/png": "[encoded data removed]",
      "text/plain": [
       "<Figure size 432x288 with 1 Axes>"
      ]
     },
     "metadata": {
      "needs_background": "light"
     },
     "output_type": "display_data"
    }
   ],
   "source": [
    "simple_returns.plot(kind='box')"
   ]
  },
  {
   "cell_type": "code",
   "execution_count": 40,
   "metadata": {},
   "outputs": [
    {
     "data": {
      "text/plain": [
       "384.1799926757806"
      ]
     },
     "execution_count": 40,
     "metadata": {},
     "output_type": "execute_result"
    }
   ],
   "source": [
    "VGT_df.Close[0] * np.prod( [(1 + Rt) for Rt in simple_returns] )\n",
    "log_returns = np.log(VGT_df.Close/VGT_df.Close.shift(1)).dropna()\n",
    "VGT_df.Close[0] * np.exp(log_returns.mean() * len(log_returns))"
   ]
  },
  {
   "cell_type": "code",
   "execution_count": 62,
   "metadata": {},
   "outputs": [
    {
     "name": "stdout",
     "output_type": "stream",
     "text": [
      "Mean: 0.0006978561143539093\n",
      "Mode: 0    0.0\n",
      "Name: Close, dtype: float64\n",
      "Median: 0.0013305249224602146\n"
     ]
    }
   ],
   "source": [
    "lm =log_returns.mean()\n",
    "lm1 = log_returns.mode()\n",
    "lm2 = log_returns.median()\n",
    "\n",
    "print(f'Mean: {lm}')\n",
    "print(f'Mode: {lm1}')\n",
    "print(f'Median: {lm2}')"
   ]
  },
  {
   "cell_type": "code",
   "execution_count": 41,
   "metadata": {},
   "outputs": [
    {
     "data": {
      "image/png": "[encoded data removed]",
      "text/plain": [
       "<Figure size 432x288 with 1 Axes>"
      ]
     },
     "metadata": {
      "needs_background": "light"
     },
     "output_type": "display_data"
    }
   ],
   "source": [
    "plt.plot(log_returns)\n",
    "plt.show()"
   ]
  },
  {
   "cell_type": "code",
   "execution_count": 42,
   "metadata": {},
   "outputs": [
    {
     "data": {
      "text/plain": [
       "<AxesSubplot:ylabel='Frequency'>"
      ]
     },
     "execution_count": 42,
     "metadata": {},
     "output_type": "execute_result"
    },
    {
     "data": {
      "image/png": "[encoded data removed]",
      "text/plain": [
       "<Figure size 432x288 with 1 Axes>"
      ]
     },
     "metadata": {
      "needs_background": "light"
     },
     "output_type": "display_data"
    }
   ],
   "source": [
    "log_returns.plot(kind='hist') #.update_layout(autosize = False, width=500, height=300)"
   ]
  },
  {
   "cell_type": "code",
   "execution_count": 61,
   "metadata": {},
   "outputs": [
    {
     "name": "stdout",
     "output_type": "stream",
     "text": [
      "Std dev. worst -10.48 best 7.47\n",
      "Probability worst 0.0000000000000000000000006 best 0.0000000000003\n"
     ]
    }
   ],
   "source": [
    "log_returns_sorted = log_returns.tolist()\n",
    "log_returns_sorted.sort()\n",
    "worst = log_returns_sorted[0]\n",
    "best = log_returns_sorted[-1]\n",
    "\n",
    "std_worst = (worst - log_returns.mean())/log_returns.std()\n",
    "std_best = (best - log_returns.mean())/log_returns.std()\n",
    "\n",
    "print('Std dev. worst %.2f best %.2f' %(std_worst, std_best))\n",
    "print('Probability worst %.25f best %.13f' %(stats.norm(0,1).pdf(std_worst), stats.norm(0,1).pdf(std_best)))"
   ]
  },
  {
   "cell_type": "code",
   "execution_count": 64,
   "metadata": {},
   "outputs": [
    {
     "name": "stdout",
     "output_type": "stream",
     "text": [
      "Q-Q Plot\n"
     ]
    },
    {
     "data": {
      "image/png": "[encoded data removed]",
      "text/plain": [
       "<Figure size 432x288 with 1 Axes>"
      ]
     },
     "metadata": {
      "needs_background": "light"
     },
     "output_type": "display_data"
    }
   ],
   "source": [
    "stats.probplot(log_returns, dist='norm', plot=pylab)\n",
    "print('Q-Q Plot')"
   ]
  },
  {
   "cell_type": "code",
   "execution_count": 45,
   "metadata": {},
   "outputs": [
    {
     "data": {
      "text/plain": [
       "<AxesSubplot:>"
      ]
     },
     "execution_count": 45,
     "metadata": {},
     "output_type": "execute_result"
    },
    {
     "data": {
      "image/png": "[encoded data removed]",
      "text/plain": [
       "<Figure size 432x288 with 1 Axes>"
      ]
     },
     "metadata": {
      "needs_background": "light"
     },
     "output_type": "display_data"
    }
   ],
   "source": [
    "log_returns.plot(kind='box')"
   ]
  },
  {
   "cell_type": "code",
   "execution_count": 67,
   "metadata": {},
   "outputs": [
    {
     "name": "stdout",
     "output_type": "stream",
     "text": [
      "ks_stat: 0.47871176849303665, p_value: 0.0\n",
      "Probably NOT Guassian\n"
     ]
    }
   ],
   "source": [
    "ks_stat, p_value = stats.kstest(log_returns, 'norm')\n",
    "print(f'ks_stat: {ks_stat}, p_value: {p_value}')\n",
    "if p_value > 0.05:\n",
    "    print('Probably Guassian')\n",
    "else:\n",
    "    print('Probably NOT Guassian')"
   ]
  },
  {
   "cell_type": "code",
   "execution_count": 68,
   "metadata": {},
   "outputs": [
    {
     "name": "stdout",
     "output_type": "stream",
     "text": [
      "sw_stat: 0.8971880078315735, p_value: 2.87739808821402e-35\n",
      "Probably NOT Guassian\n"
     ]
    }
   ],
   "source": [
    "sw_stat, p_value = stats.shapiro(log_returns)\n",
    "print(f'sw_stat: {sw_stat}, p_value: {p_value}')\n",
    "if p_value > 0.05:\n",
    "    print('Probably Guassian')\n",
    "else:\n",
    "    print('Probably NOT Guassian')"
   ]
  },
  {
   "cell_type": "code",
   "execution_count": 48,
   "metadata": {},
   "outputs": [
    {
     "name": "stdout",
     "output_type": "stream",
     "text": [
      "ADF Statisitic: 0.287946\n",
      "p-value: 0.976785\n",
      "Critical Values:\n",
      "\t1%: -3.434\n",
      "\t5%: -2.863\n",
      "\t10%: -2.568\n",
      "Time Series is Non-Stationary\n"
     ]
    }
   ],
   "source": [
    "x = VGT_df['Close'].values\n",
    "result = adfuller(x)\n",
    "print('ADF Statisitic: %f' % result[0])\n",
    "print('p-value: %f' % result[1])\n",
    "print('Critical Values:')\n",
    "for key, value in result[4].items():\n",
    "    print('\\t%s: %.3f' %(key,value))\n",
    "\n",
    "if result[0] < result[4]['5%']:\n",
    "    print('Time Series is Stationary')\n",
    "else:\n",
    "    print('Time Series is Non-Stationary')"
   ]
  },
  {
   "cell_type": "code",
   "execution_count": 49,
   "metadata": {},
   "outputs": [],
   "source": [
    "df= VGT_df['Close']\n",
    "\n",
    "df_diff = df.diff().dropna()"
   ]
  },
  {
   "cell_type": "code",
   "execution_count": 50,
   "metadata": {},
   "outputs": [
    {
     "name": "stdout",
     "output_type": "stream",
     "text": [
      "ADF Statisitic: -11.794485\n",
      "p-value: 0.000000\n",
      "Critical Values:\n",
      "\t1%: -3.434\n",
      "\t5%: -2.863\n",
      "\t10%: -2.568\n",
      "Time Series is Stationary\n"
     ]
    }
   ],
   "source": [
    "result1 = adfuller(df_diff)\n",
    "print('ADF Statisitic: %f' % result1[0])\n",
    "print('p-value: %f' % result1[1])\n",
    "print('Critical Values:')\n",
    "for key, value in result1[4].items():\n",
    "    print('\\t%s: %.3f' %(key,value))\n",
    "\n",
    "if result1[0] < result1[4]['5%']:\n",
    "    print('Time Series is Stationary')\n",
    "else:\n",
    "    print('Time Series is Non-Stationary')"
   ]
  },
  {
   "cell_type": "code",
   "execution_count": 51,
   "metadata": {},
   "outputs": [
    {
     "data": {
      "image/png": "[encoded data removed]",
      "text/plain": [
       "<Figure size 432x288 with 1 Axes>"
      ]
     },
     "metadata": {
      "needs_background": "light"
     },
     "output_type": "display_data"
    }
   ],
   "source": [
    "plt.plot(df_diff)\n",
    "plt.show()"
   ]
  },
  {
   "cell_type": "code",
   "execution_count": null,
   "metadata": {},
   "outputs": [],
   "source": []
  }
 ],
 "metadata": {
  "colab": {
   "collapsed_sections": [],
   "name": "AAPL_clean_up_(9).ipynb",
   "provenance": []
  },
  "kernelspec": {
   "display_name": "Python 3 (ipykernel)",
   "language": "python",
   "name": "python3"
  },
  "language_info": {
   "codemirror_mode": {
    "name": "ipython",
    "version": 3
   },
   "file_extension": ".py",
   "mimetype": "text/x-python",
   "name": "python",
   "nbconvert_exporter": "python",
   "pygments_lexer": "ipython3",
   "version": "3.9.11"
  }
 },
 "nbformat": 4,
 "nbformat_minor": 4
}
